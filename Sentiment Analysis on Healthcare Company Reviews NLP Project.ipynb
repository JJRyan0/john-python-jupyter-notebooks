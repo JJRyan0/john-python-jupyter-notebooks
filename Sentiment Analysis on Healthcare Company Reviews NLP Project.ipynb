{
 "cells": [
  {
   "cell_type": "markdown",
   "metadata": {},
   "source": [
    "# Sentiment Analysis on Healthcare Company Reviews: NLP Project\n",
    "\n",
    "\n",
    "------\n",
    "\n",
    "**Objective**: Build a sentiment analysis classifier for healthcare feedback (e.g., patient reviews) using scikit-learn and NLTK, predicting positive/negative sentiment. Demonstrates NLP preprocessing, ML modeling, and MLOps for production-ready analytics.\n",
    "\n",
    "**Relevance**: Aligns with a focus on unstructured data analytics for healthcare, showcasing skills in NLP, ML, and MLOps.\n",
    "\n",
    "**Author**: John Ryan | GitHub: https://github.com/JJRyan0/jjryan0\n",
    "\n",
    "**Skills**: NLP (NLTK, spaCy), scikit-learn, MLflow, Python, Healthcare Analytics\n",
    "\n",
    "\n",
    "This notebook showcases a complete **Natural Language Processing (NLP)** pipeline for classifying the sentiment of company reviews. From raw unstructured text to meaningful insights, we walk through each phase of the process, including data cleaning, feature extraction, model training, and evaluation.\n",
    "\n",
    "## Objectives\n",
    "- Clean and preprocess review text data\n",
    "- Tokenize, remove stopwords, and normalize text\n",
    "- Convert text into numerical form using **TF-IDF vectorization**\n",
    "- Train a **Logistic Regression** model to classify sentiment\n",
    "- Evaluate model performance using precision, recall, and F1-score\n",
    "\n",
    "---\n",
    "\n",
    "## Process Flow\n",
    "\n",
    "```mermaid\n",
    "graph TD\n",
    "    A[Raw Review Data] --> B[Text Preprocessing]\n",
    "    B --> C[Tokenization & Stopword Removal]\n",
    "    C --> D[TF-IDF Vectorization]\n",
    "    D --> E[Train/Test Split]\n",
    "    E --> F[Logistic Regression Model]\n",
    "    F --> G[Model Evaluation]\n",
    "    G --> H[Insights & Reporting]\n"
   ]
  },
  {
   "cell_type": "code",
   "execution_count": 2,
   "metadata": {},
   "outputs": [
    {
     "name": "stderr",
     "output_type": "stream",
     "text": [
      "/Users/johnryan/Library/Python/3.8/lib/python/site-packages/urllib3/__init__.py:35: NotOpenSSLWarning: urllib3 v2 only supports OpenSSL 1.1.1+, currently the 'ssl' module is compiled with 'LibreSSL 2.8.3'. See: https://github.com/urllib3/urllib3/issues/3020\n",
      "  warnings.warn(\n"
     ]
    }
   ],
   "source": [
    "# Import libraries\n",
    "import pandas as pd\n",
    "import numpy as np\n",
    "import nltk\n",
    "#nltk.download('punkt')\n",
    "from nltk.corpus import stopwords\n",
    "from nltk.tokenize import word_tokenize\n",
    "from nltk.stem import WordNetLemmatizer\n",
    "import spacy\n",
    "from sklearn.feature_extraction.text import TfidfVectorizer\n",
    "from sklearn.model_selection import train_test_split\n",
    "from sklearn.linear_model import LogisticRegression\n",
    "from sklearn.metrics import accuracy_score, classification_report, confusion_matrix\n",
    "import matplotlib.pyplot as plt\n",
    "import seaborn as sns\n",
    "import mlflow\n",
    "import mlflow.sklearn\n",
    "\n",
    "# Download NLTK resources\n",
    "#nltk.download('stopwords')\n",
    "#nltk.download('wordnet')\n",
    "\n",
    "# Load spaCy English model\n",
    "nlp = spacy.load('en_core_web_sm', disable=['parser', 'ner'])\n",
    "\n",
    "#dont forget pip install nltk !\n"
   ]
  },
  {
   "cell_type": "markdown",
   "metadata": {},
   "source": [
    "## 1. Data Preparation\n",
    "Import a a real dataset (Kaggle healthcare reviews) for portfolio enhancement."
   ]
  },
  {
   "cell_type": "code",
   "execution_count": 3,
   "metadata": {},
   "outputs": [],
   "source": [
    "#from ibm_watson import NaturalLanguageUnderstandingV1\n",
    "#from ibm_cloud_sdk_core.authenticators import IAMAuthenticator\n",
    "#authenticator = IAMAuthenticator('YOUR_API_KEY')\n",
    "#nlu = NaturalLanguageUnderstandingV1(version='2022-04-07', authenticator=authenticator)"
   ]
  },
  {
   "cell_type": "code",
   "execution_count": 5,
   "metadata": {},
   "outputs": [
    {
     "name": "stdout",
     "output_type": "stream",
     "text": [
      "Dataset Preview:\n",
      "       CompanyName                                             Review  \\\n",
      "0  united_american  United American has been fantastic. We have ha...   \n",
      "1  united_american  We've had very good luck with United American....   \n",
      "2  united_american  We've had a United American Insurance policy f...   \n",
      "3  united_american  We were with Cleveland Clinic and when they st...   \n",
      "4  united_american  My husband worked for a bank and we had a life...   \n",
      "\n",
      "         Date OwnershipType  \n",
      "0   4/22/2023        Public  \n",
      "1  10/28/2022        Public  \n",
      "2  10/12/2022        Public  \n",
      "3    9/1/2022        Public  \n",
      "4   5/30/2022        Public  \n",
      "\n",
      "Class Distribution:\n",
      "CompanyName\n",
      "united_health_care      2094\n",
      "humana                  1798\n",
      "kaiser                  1259\n",
      "cigna_health            1167\n",
      "aetna_health            1117\n",
      "bluecross                949\n",
      "anthem                   613\n",
      "wellcare                 443\n",
      "health_net               420\n",
      "united_american          388\n",
      "aarp_health              130\n",
      "amerihealth              128\n",
      "carefirst                 83\n",
      "ihc_health_solutions      75\n",
      "highmark                  46\n",
      "american_republic         33\n",
      "Name: count, dtype: int64\n"
     ]
    }
   ],
   "source": [
    "# Synthetic healthcare feedback dataset\n",
    "data = pd.read_csv('/Users/johnryan/Downloads/Documents/Data Sets/reviews.csv')\n",
    "\n",
    "# Display dataset\n",
    "print('Dataset Preview:')\n",
    "print(data.head())\n",
    "\n",
    "# Check class balance\n",
    "print('\\nClass Distribution:')\n",
    "print(data['CompanyName'].value_counts())"
   ]
  },
  {
   "cell_type": "markdown",
   "metadata": {},
   "source": [
    "## 2. Text Preprocessing\n",
    "\n",
    "Clean and preprocess feedback text using NLTK and spaCy for tokenization, stopword removal, and lemmatization.\n",
    "\n",
    "* __WordNetLemmatizer()__ is a natural language processing (NLP) method to reduce words to their base or dictionary form — called a lemma. Lemmatization is the process of reducing a word to its canonical form based on its meaning and part of speech. for example: \"better\" = \"good\". If you don’t provide the pos (part of speech) inside the WordNetLemmatizer(), it defaults to noun, which may not always yield the correct lemma.\n",
    "\n",
    "* __word_tokenize(text.lower())__ this section takes the text and converts it to lowercase, and splits it into individual token( words and punctuations). Chunks the text into a list of separate individual words for example ['We', 'were', 'with', 'Cleveland', 'Clinic'].\n",
    "\n",
    "* __Stopwords__ are common words in a language that are often filtered out in natural language processing (NLP) tasks because they carry little meaningful information.\n",
    "\n",
    "    for example: {'a','about','above', 'after','again', 'against',..}\n",
    " \n",
    "---\n",
    "\n",
    "Step 1: load a list of common English stopwords and store them in a set for fast lookup.\n",
    "\n",
    "Step 2: Create an instance of the WordNetLemmatizer\n",
    "\n",
    "Step 3: Create function to preprocees the text and return the tokened words/punctuations as output.\n",
    "\n",
    "Step 4: Apply and map review processed data to the dataframe as new column 'processed_feedback'"
   ]
  },
  {
   "cell_type": "code",
   "execution_count": 7,
   "metadata": {},
   "outputs": [],
   "source": [
    "\n",
    "#load a list of common English stopwords and store them in a set for fast lookup.\n",
    "stop_words = set(stopwords.words('english'))\n",
    "#creates an instance of the WordNetLemmatizer\n",
    "lemmatizer = WordNetLemmatizer()\n",
    "\n",
    "# Define preprocessing function:\n",
    "def preprocess_text(text):\n",
    "    if not isinstance(text, str):\n",
    "        return \"\"\n",
    "    tokens = word_tokenize(text.lower())\n",
    "    #filters out non-aplabetic chars & removed stopwords\n",
    "    tokens = [t for t in tokens if t.isalpha() and t not in stop_words]\n",
    "    return ' '.join(tokens) #convert a list of tokens back into a single string, where each token is separated by a space.\n",
    "#apply and map review processed data to the dataframe as new column 'processed_feedback'\n",
    "data['processed_feedback'] = data['Review'].apply(preprocess_text)"
   ]
  },
  {
   "cell_type": "code",
   "execution_count": 8,
   "metadata": {},
   "outputs": [
    {
     "data": {
      "text/html": [
       "<div>\n",
       "<style scoped>\n",
       "    .dataframe tbody tr th:only-of-type {\n",
       "        vertical-align: middle;\n",
       "    }\n",
       "\n",
       "    .dataframe tbody tr th {\n",
       "        vertical-align: top;\n",
       "    }\n",
       "\n",
       "    .dataframe thead th {\n",
       "        text-align: right;\n",
       "    }\n",
       "</style>\n",
       "<table border=\"1\" class=\"dataframe\">\n",
       "  <thead>\n",
       "    <tr style=\"text-align: right;\">\n",
       "      <th></th>\n",
       "      <th>CompanyName</th>\n",
       "      <th>Review</th>\n",
       "      <th>Date</th>\n",
       "      <th>OwnershipType</th>\n",
       "      <th>processed_feedback</th>\n",
       "    </tr>\n",
       "  </thead>\n",
       "  <tbody>\n",
       "    <tr>\n",
       "      <th>0</th>\n",
       "      <td>united_american</td>\n",
       "      <td>United American has been fantastic. We have ha...</td>\n",
       "      <td>4/22/2023</td>\n",
       "      <td>Public</td>\n",
       "      <td>united american fantastic one bit trouble coll...</td>\n",
       "    </tr>\n",
       "    <tr>\n",
       "      <th>1</th>\n",
       "      <td>united_american</td>\n",
       "      <td>We've had very good luck with United American....</td>\n",
       "      <td>10/28/2022</td>\n",
       "      <td>Public</td>\n",
       "      <td>good luck united american got used husband ope...</td>\n",
       "    </tr>\n",
       "  </tbody>\n",
       "</table>\n",
       "</div>"
      ],
      "text/plain": [
       "       CompanyName                                             Review  \\\n",
       "0  united_american  United American has been fantastic. We have ha...   \n",
       "1  united_american  We've had very good luck with United American....   \n",
       "\n",
       "         Date OwnershipType                                 processed_feedback  \n",
       "0   4/22/2023        Public  united american fantastic one bit trouble coll...  \n",
       "1  10/28/2022        Public  good luck united american got used husband ope...  "
      ]
     },
     "execution_count": 8,
     "metadata": {},
     "output_type": "execute_result"
    }
   ],
   "source": [
    "data.head(2)"
   ]
  },
  {
   "cell_type": "markdown",
   "metadata": {},
   "source": [
    "## 3. Feature Extraction - Rule-Based Filtering\n",
    "\n",
    "Goal: Convert text to numerical features using TF-IDF vectorization, incorporating dimensionality reduction via max_features.Used in sentiment analysis tasks for product reviews, social media feedback, customer feedback.\n",
    "\n",
    "* __Polarity:__ Gives the polarity score of the text, which is a float between -1.0 and 1.0:\n",
    "\n",
    "    -1.0 → Very negative, 0.0 → Neutral, +1.0 → Very positive\n",
    "\n",
    "* __TF-IDF vectorization:__ Used to convert a collection of text documents into a matrix of TF-IDF features. Gives more weight to words that are frequent in a document but rare across documents.\n",
    "\n",
    "    __Term Frequency (TF):__ How frequently a term appears in a document.\n",
    "\n",
    "    __Inverse Document Frequency (IDF):__ How unique or rare the term is across all documents.\n",
    "\n",
    "---\n",
    "\n",
    "\n",
    "\n",
    "Step 1: Function to create mapped sentiments based on the polarity scores of the preprosessed text.\n",
    "\n",
    "Step 2: Convert text to numerical features using TF-IDF vectorization.\n",
    "\n",
    "Step 3: Map the numerical features to a class {'positive': 1, 'negative': 0}\n",
    "\n",
    "Step 4: Create train set and test sets for ML Model  \n"
   ]
  },
  {
   "cell_type": "code",
   "execution_count": 9,
   "metadata": {},
   "outputs": [],
   "source": [
    "from textblob import TextBlob\n",
    "#function created to map sentiments based on the preprosessed text, assign polarities as classes\n",
    "def get_sentiment(text):\n",
    "    try:\n",
    "        polarity = TextBlob(text).sentiment.polarity\n",
    "        if polarity > 0:\n",
    "            return 'positive'\n",
    "        elif polarity < 0:\n",
    "            return 'negative'\n",
    "        else:\n",
    "            return 'neutral'\n",
    "    except:\n",
    "        return 'neutral'\n",
    "\n",
    "data['Sentiment'] = data['Review'].apply(get_sentiment)\n",
    "data = data[data['Sentiment'] != 'neutral']  # Optional: drop neutral if you're doing binary classification\n",
    "\n",
    "\n",
    "#Convert text to numerical features using TF-IDF vectorization\n",
    "from sklearn.feature_extraction.text import TfidfVectorizer\n",
    "\n",
    "tfidf = TfidfVectorizer(max_features=1000)\n",
    "X = tfidf.fit_transform(data['processed_feedback']).toarray()\n",
    "y = data['Sentiment'].map({'positive': 1, 'negative': 0})\n",
    "\n",
    "from sklearn.model_selection import train_test_split\n",
    "\n",
    "X_train, X_test, y_train, y_test = train_test_split(X, y, test_size=0.2, random_state=42)"
   ]
  },
  {
   "cell_type": "code",
   "execution_count": 10,
   "metadata": {},
   "outputs": [
    {
     "name": "stdout",
     "output_type": "stream",
     "text": [
      "0\n"
     ]
    }
   ],
   "source": [
    "print(y.isnull().sum())"
   ]
  },
  {
   "cell_type": "markdown",
   "metadata": {},
   "source": [
    "## 4. Customer Sentiment - Model Training - Logistic Regression\n",
    "\n",
    "Train a Logistic Regression model for sentiment classification, logging with MLflow for MLOps."
   ]
  },
  {
   "cell_type": "code",
   "execution_count": 7,
   "metadata": {},
   "outputs": [
    {
     "name": "stdout",
     "output_type": "stream",
     "text": [
      "Model Accuracy: 0.7658349328214972\n",
      "\n",
      "Classification Report:\n",
      "              precision    recall  f1-score   support\n",
      "\n",
      "    Negative       0.77      0.66      0.71       921\n",
      "    Positive       0.76      0.85      0.80      1163\n",
      "\n",
      "    accuracy                           0.77      2084\n",
      "   macro avg       0.77      0.76      0.76      2084\n",
      "weighted avg       0.77      0.77      0.76      2084\n",
      "\n"
     ]
    }
   ],
   "source": [
    "from sklearn.linear_model import LogisticRegression\n",
    "from sklearn.metrics import accuracy_score, classification_report\n",
    "\n",
    "# Train model\n",
    "model = LogisticRegression(random_state=42)\n",
    "model.fit(X_train, y_train)\n",
    "\n",
    "# Predict\n",
    "y_pred = model.predict(X_test)\n",
    "\n",
    "# Evaluate\n",
    "accuracy = accuracy_score(y_test, y_pred)\n",
    "\n",
    "print('Model Accuracy:', accuracy)\n",
    "print('\\nClassification Report:')\n",
    "print(classification_report(y_test, y_pred, target_names=['Negative', 'Positive']))\n"
   ]
  },
  {
   "cell_type": "markdown",
   "metadata": {},
   "source": [
    "## Results\n",
    "---\n",
    "\n",
    "__76.6%__ is a solid baseline for a first pass at sentiment classification using logistic regression and TF-IDF.\n",
    "\n",
    "We see a __Positive sentiment detection is strong:__ High recall (0.85) means the model is catching most of the true positives.\n",
    "\n",
    "We see a Negative sentiment detection is weaker: Lower recall (0.66) suggests that some negative reviews are being misclassified as positive."
   ]
  },
  {
   "cell_type": "markdown",
   "metadata": {},
   "source": [
    "## 5. Confusion Matrix - Visualization\n",
    "Visualize the confusion matrix to evaluate model performance.\n",
    "\n",
    "__True Positives (TP):__ 984.  Reviews that are actually positive, the model correctly predicted 984 of them\n",
    "\n",
    "__True Negatives (TN):__ 612.  The reviews that are actually identified negative, the model correctly predicted 612 of them as negative.\n",
    "\n",
    "__False Positives (FP):__ 309. The model made 309 mistakes by labeling negative reviews as positive! __Need to start Increasing the F1 threshold to see if this helps increase precision reducing False Positives, we want to monitor how the model process mistakes for negative reviews.\n",
    "\n",
    "__False Negatives (FN):__ 179. - Positive reviews incorrectly predicted as negative i.e a Type II error."
   ]
  },
  {
   "cell_type": "code",
   "execution_count": 8,
   "metadata": {},
   "outputs": [
    {
     "data": {
      "image/png": "[encoded data removed]",
      "text/plain": [
       "<Figure size 600x400 with 2 Axes>"
      ]
     },
     "metadata": {},
     "output_type": "display_data"
    }
   ],
   "source": [
    "# Confusion matrix\n",
    "cm = confusion_matrix(y_test, y_pred)\n",
    "plt.figure(figsize=(6, 4))\n",
    "sns.heatmap(cm, annot=True, fmt='d', cmap='Blues', xticklabels=['Negative', 'Positive'], yticklabels=['Negative', 'Positive'])\n",
    "plt.title('Confusion Matrix')\n",
    "plt.xlabel('Predicted')\n",
    "plt.ylabel('Actual')\n",
    "plt.savefig('confusion_matrix.png')  # Save for portfolio\n",
    "plt.show()"
   ]
  },
  {
   "cell_type": "markdown",
   "metadata": {},
   "source": [
    "## 6. Example Prediction\n",
    "Test the model on new feedback to demonstrate real-world application."
   ]
  },
  {
   "cell_type": "code",
   "execution_count": 9,
   "metadata": {},
   "outputs": [
    {
     "name": "stdout",
     "output_type": "stream",
     "text": [
      "New Feedback: The doctor was attentive and kind, great visit!\n",
      "Predicted Sentiment: Positive\n"
     ]
    }
   ],
   "source": [
    "# New feedback\n",
    "new_feedback = ['The doctor was attentive and kind, great visit!']\n",
    "new_processed = [preprocess_text(text) for text in new_feedback]\n",
    "new_X = tfidf.transform(new_processed).toarray()\n",
    "prediction = model.predict(new_X)\n",
    "\n",
    "print('New Feedback:', new_feedback[0])\n",
    "print('Predicted Sentiment:', 'Positive' if prediction[0] == 1 else 'Negative')"
   ]
  },
  {
   "cell_type": "markdown",
   "metadata": {},
   "source": [
    "## 7. Next Steps for Enhancement\n",
    "- **Real Dataset**: Use a larger healthcare dataset.\n",
    "- **Advanced Models**: Experiment with BERT or IBM Watson NLP for improved accuracy.\n",
    "- **Azure Integration**: Deploy model in Azure ML, leveraging Azure Data Factory for orchestration.\n"
   ]
  }
 ],
 "metadata": {
  "kernelspec": {
   "display_name": "Python 3 (ipykernel)",
   "language": "python",
   "name": "python3"
  },
  "language_info": {
   "codemirror_mode": {
    "name": "ipython",
    "version": 3
   },
   "file_extension": ".py",
   "mimetype": "text/x-python",
   "name": "python",
   "nbconvert_exporter": "python",
   "pygments_lexer": "ipython3",
   "version": "3.8.2"
  }
 },
 "nbformat": 4,
 "nbformat_minor": 4
}
